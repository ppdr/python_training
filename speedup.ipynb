{
 "cells": [
  {
   "cell_type": "markdown",
   "metadata": {},
   "source": [
    "# Pythonの書き方による実行速度UP"
   ]
  },
  {
   "cell_type": "markdown",
   "metadata": {},
   "source": [
    "### リストやsetから、条件に合う最初の要素を取り出す\n",
    "\n",
    "リスト内包表記よりも、nextとジェネレータを使う方が速い  \n",
    "nextなら見つかった時点で処理を止めるため\n",
    "\n",
    "nextなら見つからなかった場合の返却値も設定できる"
   ]
  },
  {
   "cell_type": "code",
   "execution_count": 8,
   "metadata": {},
   "outputs": [
    {
     "name": "stdout",
     "output_type": "stream",
     "text": [
      "780 ns ± 40.5 ns per loop (mean ± std. dev. of 7 runs, 1,000,000 loops each)\n",
      "62.7 µs ± 11.2 µs per loop (mean ± std. dev. of 7 runs, 10,000 loops each)\n"
     ]
    }
   ],
   "source": [
    "path = [(i, i) for i in range(1000)]\n",
    "\n",
    "%timeit first_element = next((e for e in path if e[0] == 10), None)\n",
    "%timeit first_element = [e for e in path if e[0] == 10][0]"
   ]
  },
  {
   "cell_type": "markdown",
   "metadata": {},
   "source": [
    "### リストやsetに特定の処理を加え、その最大や最小、平均などを求める\n",
    "\n",
    "~~リスト内包表記で一度リストを作るより、ジェネレータのままmax, min, mean関数に入れるほうが高速~~\n",
    "\n",
    "というのはガセ"
   ]
  },
  {
   "cell_type": "code",
   "execution_count": 13,
   "metadata": {},
   "outputs": [
    {
     "name": "stdout",
     "output_type": "stream",
     "text": [
      "239 µs ± 16.5 µs per loop (mean ± std. dev. of 7 runs, 1,000 loops each)\n",
      "217 µs ± 2.91 µs per loop (mean ± std. dev. of 7 runs, 1,000 loops each)\n"
     ]
    }
   ],
   "source": [
    "path = [(i, i) for i in range(1000)]\n",
    "\n",
    "%timeit max_element = min(x[0] ** 2 for x in path)\n",
    "%timeit max_element = min([x[0] ** 2 for x in path])"
   ]
  }
 ],
 "metadata": {
  "kernelspec": {
   "display_name": "Python 3",
   "language": "python",
   "name": "python3"
  },
  "language_info": {
   "codemirror_mode": {
    "name": "ipython",
    "version": 3
   },
   "file_extension": ".py",
   "mimetype": "text/x-python",
   "name": "python",
   "nbconvert_exporter": "python",
   "pygments_lexer": "ipython3",
   "version": "3.10.5"
  }
 },
 "nbformat": 4,
 "nbformat_minor": 2
}
