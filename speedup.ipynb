{
 "cells": [
  {
   "cell_type": "markdown",
   "metadata": {},
   "source": [
    "# Pythonの書き方による実行速度UP"
   ]
  },
  {
   "cell_type": "code",
   "execution_count": 1,
   "metadata": {},
   "outputs": [],
   "source": [
    "from itertools import islice"
   ]
  },
  {
   "cell_type": "markdown",
   "metadata": {},
   "source": [
    "## 参考資料\n",
    "\n",
    "[itertools公式ドキュメント](https://docs.python.org/ja/3/library/itertools.html): 組合せ、n回ループする、条件ごとにグループ化する等  \n"
   ]
  },
  {
   "cell_type": "markdown",
   "metadata": {},
   "source": [
    "### リストやsetから、条件に合う最初の要素を取り出す\n",
    "\n",
    "リスト内包表記よりも、nextとジェネレータを使う方が速い  \n",
    "nextなら見つかった時点で処理を止めるため\n",
    "\n",
    "nextなら見つからなかった場合の返却値も設定できる"
   ]
  },
  {
   "cell_type": "code",
   "execution_count": 2,
   "metadata": {},
   "outputs": [
    {
     "name": "stdout",
     "output_type": "stream",
     "text": [
      "54.3 µs ± 2.61 µs per loop (mean ± std. dev. of 7 runs, 10,000 loops each)\n",
      "391 ns ± 2.96 ns per loop (mean ± std. dev. of 7 runs, 1,000,000 loops each)\n"
     ]
    }
   ],
   "source": [
    "path = [(i, i) for i in range(1000)]\n",
    "\n",
    "%timeit first_element = [e for e in path if e[0] % 2 == 0][0]\n",
    "%timeit first_element = next((e for e in path if e[0] % 2 == 0), None)"
   ]
  },
  {
   "cell_type": "markdown",
   "metadata": {},
   "source": [
    "### リストやsetから条件にあう要素を先頭からn個取り出す\n",
    "\n",
    "yieldを使うとリストを順番に検索して見つかった時点で1個値を返すので、全探索にならなくてよい"
   ]
  },
  {
   "cell_type": "code",
   "execution_count": 3,
   "metadata": {},
   "outputs": [
    {
     "name": "stdout",
     "output_type": "stream",
     "text": [
      "55 µs ± 743 ns per loop (mean ± std. dev. of 7 runs, 10,000 loops each)\n",
      "780 ns ± 25.1 ns per loop (mean ± std. dev. of 7 runs, 1,000,000 loops each)\n"
     ]
    }
   ],
   "source": [
    "path = [(i, i) for i in range(1000)]\n",
    "\n",
    "def get_yield():\n",
    "    for e in path:\n",
    "        if e[0] % 2 == 0:\n",
    "            yield e\n",
    "\n",
    "%timeit first_three_elements = [e for e in path if e[0] % 2 == 0][:3]\n",
    "%timeit first_three_elements = list(islice(get_yield(), 3))"
   ]
  },
  {
   "cell_type": "markdown",
   "metadata": {},
   "source": [
    "### リストやsetに特定の処理を加え、その最大や最小、平均などを求める\n",
    "\n",
    "~~リスト内包表記で一度リストを作るより、ジェネレータのままmax, min, mean関数に入れるほうが高速~~\n",
    "\n",
    "というのはガセ"
   ]
  },
  {
   "cell_type": "code",
   "execution_count": 4,
   "metadata": {},
   "outputs": [
    {
     "name": "stdout",
     "output_type": "stream",
     "text": [
      "258 µs ± 10.3 µs per loop (mean ± std. dev. of 7 runs, 1,000 loops each)\n",
      "247 µs ± 6.09 µs per loop (mean ± std. dev. of 7 runs, 1,000 loops each)\n"
     ]
    }
   ],
   "source": [
    "path = [(i, i) for i in range(1000)]\n",
    "\n",
    "%timeit max_element = min(x[0] ** 2 for x in path)\n",
    "%timeit max_element = min([x[0] ** 2 for x in path])"
   ]
  }
 ],
 "metadata": {
  "kernelspec": {
   "display_name": "Python 3",
   "language": "python",
   "name": "python3"
  },
  "language_info": {
   "codemirror_mode": {
    "name": "ipython",
    "version": 3
   },
   "file_extension": ".py",
   "mimetype": "text/x-python",
   "name": "python",
   "nbconvert_exporter": "python",
   "pygments_lexer": "ipython3",
   "version": "3.10.5"
  }
 },
 "nbformat": 4,
 "nbformat_minor": 2
}
